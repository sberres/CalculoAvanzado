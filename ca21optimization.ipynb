{
 "cells": [
  {
   "cell_type": "code",
   "execution_count": null,
   "metadata": {},
   "outputs": [],
   "source": []
  },
  {
   "cell_type": "markdown",
   "metadata": {},
   "source": [
    "# Visualizar datos"
   ]
  },
  {
   "cell_type": "code",
   "execution_count": 48,
   "metadata": {},
   "outputs": [
    {
     "data": {
      "image/png": "[encoded data removed]",
      "text/plain": [
       "<Figure size 432x288 with 1 Axes>"
      ]
     },
     "metadata": {
      "needs_background": "light"
     },
     "output_type": "display_data"
    }
   ],
   "source": [
    "import matplotlib.pyplot as plt\n",
    "\n",
    "tdata=np.array([0.1, 0.2, 0.3, 0.4, 0.5, 0.6, 0.7, 0.8, 0.9, 1.0])\n",
    "udata=np.array([0.18, 0.33, 0.45, 0.55, 0.63, 0.70, 0.75, 0.80, 0.83, 0.86])\n",
    "\n",
    "plt.plot(tdata, udata, 'kx')\n",
    "plt.xlabel('t')\n",
    "plt.ylabel('u')\n",
    "\n",
    "plt.axis([0, 1.1, 0, 1])\n",
    "plt.show()"
   ]
  },
  {
   "cell_type": "markdown",
   "metadata": {},
   "source": [
    "# Visualizar funciones (1D)"
   ]
  },
  {
   "cell_type": "code",
   "execution_count": 71,
   "metadata": {},
   "outputs": [
    {
     "data": {
      "image/png": "[encoded data removed]",
      "text/plain": [
       "<Figure size 432x288 with 1 Axes>"
      ]
     },
     "metadata": {
      "needs_background": "light"
     },
     "output_type": "display_data"
    }
   ],
   "source": [
    "import numpy as np\n",
    "def modelo_A(t):\n",
    "    global a, b\n",
    "    return 1 - a*np.exp(-b*t)\n",
    "\n",
    "def modelo_B(t):\n",
    "    global a, b    \n",
    "    return a*t**b\n",
    "    \n",
    "t = np.arange(0.0, 1.2, 0.01)\n",
    "\n",
    "a=1.5; b=1\n",
    "a=1; b=2\n",
    "mA=modelo_A(t)\n",
    "plt.plot(t, mA, 'b', tdata, udata, 'kx')\n",
    "\n",
    "a=1; b=1/2\n",
    "mB=modelo_B(t)\n",
    "plt.plot(t, mB, 'g')\n",
    "plt.show()\n"
   ]
  },
  {
   "cell_type": "code",
   "execution_count": 94,
   "metadata": {},
   "outputs": [],
   "source": [
    "def cost(p):\n",
    "    global a\n",
    "    global b\n",
    "    a=p[0]; b=p[1]\n",
    "    u=modelo_B(tdata)\n",
    "    return sum((u-udata)**2)\n",
    "\n",
    "p=[a,b]\n",
    "# p=[2,2]"
   ]
  },
  {
   "cell_type": "code",
   "execution_count": 95,
   "metadata": {},
   "outputs": [
    {
     "name": "stdout",
     "output_type": "stream",
     "text": [
      "Optimization terminated successfully.\n",
      "         Current function value: 0.008224\n",
      "         Iterations: 6\n",
      "         Function evaluations: 458\n"
     ]
    }
   ],
   "source": [
    "import scipy.optimize as opt\n",
    "import time\n",
    "\n",
    "t0 = time.time()\n",
    "res = opt.minimize(cost, p, method='powell', tol=1e-20, options={'maxiter': 20, 'disp': True})\n",
    "t1 = time.time()"
   ]
  },
  {
   "cell_type": "code",
   "execution_count": 96,
   "metadata": {},
   "outputs": [
    {
     "data": {
      "text/plain": [
       "   direc: array([[-1.03331440e-01, -1.32169450e-01],\n",
       "       [-6.73429866e-09,  1.30027831e-07]])\n",
       "     fun: 0.008224008478297367\n",
       " message: 'Optimization terminated successfully.'\n",
       "    nfev: 458\n",
       "     nit: 6\n",
       "  status: 0\n",
       " success: True\n",
       "       x: array([0.90180396, 0.58589694])"
      ]
     },
     "execution_count": 96,
     "metadata": {},
     "output_type": "execute_result"
    }
   ],
   "source": [
    "res"
   ]
  },
  {
   "cell_type": "code",
   "execution_count": 97,
   "metadata": {},
   "outputs": [
    {
     "data": {
      "text/plain": [
       "array([0.90180396, 0.58589694])"
      ]
     },
     "execution_count": 97,
     "metadata": {},
     "output_type": "execute_result"
    }
   ],
   "source": [
    "res.x"
   ]
  },
  {
   "cell_type": "code",
   "execution_count": null,
   "metadata": {},
   "outputs": [],
   "source": []
  },
  {
   "cell_type": "code",
   "execution_count": null,
   "metadata": {},
   "outputs": [],
   "source": []
  },
  {
   "cell_type": "code",
   "execution_count": null,
   "metadata": {},
   "outputs": [],
   "source": []
  },
  {
   "cell_type": "code",
   "execution_count": null,
   "metadata": {},
   "outputs": [],
   "source": []
  },
  {
   "cell_type": "code",
   "execution_count": null,
   "metadata": {},
   "outputs": [],
   "source": []
  }
 ],
 "metadata": {
  "kernelspec": {
   "display_name": "Python 3",
   "language": "python",
   "name": "python3"
  },
  "language_info": {
   "codemirror_mode": {
    "name": "ipython",
    "version": 3
   },
   "file_extension": ".py",
   "mimetype": "text/x-python",
   "name": "python",
   "nbconvert_exporter": "python",
   "pygments_lexer": "ipython3",
   "version": "3.7.6"
  }
 },
 "nbformat": 4,
 "nbformat_minor": 4
}
